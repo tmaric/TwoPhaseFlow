{
 "cells": [
  {
   "cell_type": "code",
   "execution_count": 1,
   "metadata": {},
   "outputs": [],
   "source": [
    "import pandas as pd\n",
    "import matplotlib.pyplot as plt\n",
    "from matplotlib import rcParams\n",
    "import dataAgglomeration as da"
   ]
  },
  {
   "cell_type": "code",
   "execution_count": 2,
   "metadata": {},
   "outputs": [],
   "source": [
    "def risingVelocity(dframe, df_ref_anjos, ref_HL, ref_BW):\n",
    "    rcParams[\"figure.dpi\"] = 300\n",
    "    g=9.80665\n",
    "    D=0.01305*2\n",
    "    #ref_value=0.354\n",
    "    \n",
    "    resolutions = dframe.index.get_level_values(\"n_base\").unique()\n",
    "    \n",
    "    for resolution in resolutions:\n",
    "        df_subset = dframe.loc[resolution]\n",
    "        plt.plot(df_subset[\"time\"]/(D/g)**0.5, df_subset[\"magVelocity\"]/(g*D)**0.5,\"-.\",label=' Euler+upwind; N%s' % (resolution))\n",
    "        \n",
    "    #dframe_BLUE_Mo848= pd.read_csv('history.dat',sep='\\s+',header=None,skipinitialspace=True)\n",
    "    #dframe_extract_Mo848=pd.read_csv('Mo848.csv')\n",
    "    plt.plot(df_ref_anjos['x'],df_ref_anjos['Velocity'],label=' simu. Anjos et al.(2014)')\n",
    "    #plt.plot(dframe_BLUE_Mo848.iloc[:,0]/(D/g)**0.5, dframe_BLUE_Mo848.iloc[:,2]/(g*D)**0.5,label='BLUE_N256³')\n",
    "    plt.axhline(ref_HL, color='blue', linestyle = '-.', label=' simu. Hua and Luo(2007)')\n",
    "    plt.axhline(ref_BW, color='black',linestyle = '--', label=' exp.Bhaga and Weber(1981)')\n",
    "    plt.xlim(left=0,right=6.01)\n",
    "    #plt.title(\"Mo=848, nu_max\")\n",
    "    plt.ylabel(\"Normalized buble rising velocity\")\n",
    "    plt.xlabel(\"Normalized time\")\n",
    "    plt.grid(linestyle = 'dotted', linewidth = 0.5)\n",
    "    plt.legend()"
   ]
  },
  {
   "cell_type": "code",
   "execution_count": 31,
   "metadata": {},
   "outputs": [
    {
     "name": "stdout",
     "output_type": "stream",
     "text": [
      "Variants without valid data:\n",
      "----------------------------\n",
      "#Variation | Reason\n",
      "----------------------------\n",
      "[[0.01305], [0], [0], [0], [1e-07], [0.0001], [0], [4], [15], [1e-07], [1e-08], ['triangleInCell'], ['compactDivGrad'], ['cellPoint'], ['Euler'], [10], [0], [0.01], [0.1], [0.32], [1], [3], [64, 96, 128], [150], [-9.80665], [0.078], [0.0004, 0.000948148, 0.002022222], [1350], [1.453061224e-05], [1.225], [0, 1, 2, 3, 4, 5, 6, 7, 8, 9, 10, 11, 12, 13, 14, 15, 16, 17, 18, 19, 20, 21, 22, 23, 24, 25, 26, 27, 28, 29, 30, 31, 32, 33, 34, 35, 36, 37, 38, 39, 40, 41, 42, 43, 44, 45, 46, 47, 48, 49, 50, 51, 52, 53, 54, 55, 56, 57, 58, 59, 60, 61, 62, 63, 64, 65, 66, 67, 68, 69, 70, 71, 72, 73, 74, 75, 76, 77, 78, 79, 80, 81, 82, 83, 84, 85, 86, 87, 88, 89, 90, 91, 92, 93, 94, 95, 96, 97, 98, 99, ...]]\n",
      "['radius', 'z_centre', 'y_centre', 'x_centre', 'abs_phi_change_tolerance', 'phi_change_tolerance', 'n_non_orth_correctors', 'n_correctors', 'n_outer_correctors', 'u_tol', 'p_tol', 'front_to_mesh_transfer', 'curvature_model', 'cell_to_vertex', 'temporal_integration', 'reconstruction_interval', 'purge_write', 'write_interval', 'scale_delta_t', 'end_time', 'refinementRadiusFactor', 'additionalRefinementLevels', 'n_base', 'resolution', 'gravity', 'surface_tension_coefficient', 'nu_ambient', 'rho_ambient', 'nu_droplet', 'rho_droplet', 'step']\n"
     ]
    }
   ],
   "source": [
    "### Results from interFlow\n",
    "agglomerator = da.data_agglomerator(\"Anjos2014.parameter\",\"bubblepproc.dat\", \n",
    "                                     \"./isoAdv-Anjos2014_00000_templateCase\")\n",
    "agglomerator.show_failed_variations()\n",
    "agglomerator.write_agglomerated_study_data(\"isoAdv-risingBubble3D.csv\")\n",
    "dframe_isoAdv_risingU = agglomerator.study_dataframe()\n",
    "dframe_isoAdv_risingU = dframe_isoAdv_risingU.sort_index()\n",
    "\n",
    "\n",
    "### Results from interIsoRhoFoam\n",
    "agglomerator = da.data_agglomerator(\"Anjos2014.parameter\",\"bubblepproc.dat\", \n",
    "                                     \"./isoRho-Anjos2014_00000_templateCase\")\n",
    "agglomerator.show_failed_variations()\n",
    "agglomerator.write_agglomerated_study_data(\"isoRho-risingBubble3D.csv\")\n",
    "dframe_isoRho_risingU = agglomerator.study_dataframe()\n",
    "dframe_isoRho_risingU = dframe_isoRho_risingU.sort_index()\n",
    "\n",
    "g=9.80665\n",
    "D=0.01305*2\n",
    "### data of Mo=848 \n",
    "df_ref_anjos_Mo848 = pd.read_csv('Mo848.csv')\n",
    "ref_HL_Mo848 = 0.354\n",
    "ref_BW_Mo848 = 2.47*2.73/(1350*0.0261*(D*g)**0.5)\n",
    "dframe_isoAdv_risingU_Mo848 = dframe_isoAdv_risingU.loc[dframe_isoAdv_risingU.index.get_level_values('nu_ambient') == 0.002022222]\n",
    "dframe_isoRho_risingU_Mo848 = dframe_isoRho_risingU.loc[dframe_isoRho_risingU.index.get_level_values('nu_ambient') == 0.002022222]\n",
    "\n",
    "### data of Mo=41.1 \n",
    "df_ref_anjos_Mo41d1 = pd.read_csv('Mo41d1.csv')\n",
    "ref_HL_Mo41d1 = 0.502\n",
    "ref_BW_Mo41d1 = 0.5141\n",
    "dframe_isoAdv_risingU_Mo41d1 = dframe_isoAdv_risingU.loc[dframe_isoAdv_risingU.index.get_level_values('nu_ambient') == 0.000948148]\n",
    "dframe_isoRho_risingU_Mo41d1 = dframe_isoRho_risingU.loc[dframe_isoRho_risingU.index.get_level_values('nu_ambient') == 0.000948148]\n",
    "\n",
    "### data of Mo=1.31\n",
    "df_ref_anjos_Mo1d31 = pd.read_csv('Mo1d31.csv')\n",
    "ref_HL_Mo1d31=0.602\n",
    "ref_BW_Mo1d31=0.617972373\n",
    "dframe_isoAdv_risingU_Mo1d31 = dframe_isoAdv_risingU.loc[dframe_isoAdv_risingU.index.get_level_values('nu_ambient') == 0.0004]"
   ]
  },
  {
   "cell_type": "code",
   "execution_count": null,
   "metadata": {},
   "outputs": [],
   "source": [
    "risingVelocity(dframe_isoAdv_risingU_Mo848,df_ref_anjos_Mo848,ref_HL_Mo848,ref_BW_Mo848)"
   ]
  },
  {
   "cell_type": "code",
   "execution_count": null,
   "metadata": {},
   "outputs": [],
   "source": [
    "risingVelocity(dframe_isoRho_risingU_Mo848,df_ref_anjos_Mo848,ref_HL_Mo848,ref_BW_Mo848)"
   ]
  },
  {
   "cell_type": "code",
   "execution_count": null,
   "metadata": {},
   "outputs": [],
   "source": [
    "risingVelocity(dframe_isoAdv_risingU_Mo41d1,df_ref_anjos_Mo41d1,ref_HL_Mo41d1,ref_BW_Mo41d1)"
   ]
  },
  {
   "cell_type": "code",
   "execution_count": null,
   "metadata": {},
   "outputs": [],
   "source": [
    "risingVelocity(dframe_isoRho_risingU_Mo41d1,df_ref_anjos_Mo41d1,ref_HL_Mo41d1,ref_BW_Mo41d1)"
   ]
  },
  {
   "cell_type": "code",
   "execution_count": null,
   "metadata": {},
   "outputs": [],
   "source": [
    "risingVelocity(dframe_isoAdv_risingU_Mo1d31,df_ref_anjos_Mo1d31,ref_HL_Mo1d31,ref_BW_Mo1d31)"
   ]
  },
  {
   "cell_type": "code",
   "execution_count": null,
   "metadata": {},
   "outputs": [],
   "source": [
    "risingVelocity(dframe_isoRho_risingU_Mo1d31,df_ref_anjos_Mo1d31,ref_HL_Mo1d31,ref_BW_Mo1d31)"
   ]
  },
  {
   "cell_type": "code",
   "execution_count": null,
   "metadata": {},
   "outputs": [],
   "source": []
  }
 ],
 "metadata": {
  "kernelspec": {
   "display_name": "Python 3",
   "language": "python",
   "name": "python3"
  },
  "language_info": {
   "codemirror_mode": {
    "name": "ipython",
    "version": 3
   },
   "file_extension": ".py",
   "mimetype": "text/x-python",
   "name": "python",
   "nbconvert_exporter": "python",
   "pygments_lexer": "ipython3",
   "version": "3.9.5"
  }
 },
 "nbformat": 4,
 "nbformat_minor": 4
}
