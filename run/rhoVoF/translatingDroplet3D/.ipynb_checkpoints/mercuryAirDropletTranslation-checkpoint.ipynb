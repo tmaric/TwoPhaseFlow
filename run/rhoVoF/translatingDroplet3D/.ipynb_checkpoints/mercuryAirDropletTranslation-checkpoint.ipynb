{
 "cells": [
  {
   "cell_type": "code",
   "execution_count": null,
   "metadata": {},
   "outputs": [],
   "source": [
    "import dataframeWithMetadata as dfmd\n",
    "import dataAgglomeration as da\n",
    "import os\n",
    "from matplotlib import pyplot as plt\n",
    "import pandas as pd\n",
    "from matplotlib import rcParams\n",
    "rcParams[\"figure.dpi\"] = 400"
   ]
  },
  {
   "cell_type": "code",
   "execution_count": null,
   "metadata": {},
   "outputs": [],
   "source": [
    "def plot_density_ratio_dframe(dframe):\n",
    "    \"\"\"Plots the temporal evolution of the L-INFINITY velocity error norm for each mesh resolution and density ratio.\"\"\"\n",
    "    \n",
    "    timeSchemes = dframe.index.get_level_values(\"timeSchemes\").unique()\n",
    "    fluxSchemes = dframe.index.get_level_values(\"fluxSchemes\").unique()\n",
    "    if len(fluxSchemes) >1:\n",
    "        fluxSchemes = [\"upwind\", \"cubic\",\"limitedLinearV\",\"linear\",\"LUST\",\"MUSCL\", \"QUICK\", \"SuperBee\", \"vanLeer\"]\n",
    "    resolutions = dframe.index.get_level_values(\"resolution\").unique()\n",
    "    v = 0.01\n",
    "    \n",
    "    for resolution in resolutions:\n",
    "        for timeScheme in timeSchemes:\n",
    "            for fluxScheme in fluxSchemes:\n",
    "                if (timeScheme == \"Euler\") | ((timeScheme == \"CrankNicolson\") & (fluxScheme == \"upwind\")):\n",
    "                    df_subset = dframe.loc[resolution,fluxScheme,timeScheme]\n",
    "                    plt.plot(df_subset[\"time\"], df_subset[\"LinfU\"] / v, \n",
    "                         label=\" %s+%s;N%s\" % (timeScheme, fluxScheme, resolution))\n",
    "    plt.ylabel(r\"$L_{\\infty}(\\frac{\\|\\mathbf{v}_c^e - \\mathbf{v}_c^n\\|}{\\|\\mathbf{v}_c^e\\|})$\")#\"$L_{\\infty}(\\|\\mathbf{v}_c^e - \\mathbf{v}_c^n\\|)$\")\n",
    "    plt.xlabel(\"Time in seconds\")\n",
    "    plt.yscale('log')\n",
    "    if dframe[\"LinfU\"].max() > 1e3:\n",
    "        plt.ylim(bottom=1e-13,top=1e3)\n",
    "    plt.xlim(-0.005,0.155)\n",
    "    plt.legend(loc='upper center', bbox_to_anchor=(0.5, -0.15),\n",
    "          fancybox=True, shadow=True, ncol=2)"
   ]
  },
  {
   "cell_type": "code",
   "execution_count": null,
   "metadata": {},
   "outputs": [],
   "source": [
    "agglomerator = da.data_agglomerator(\"mercuryAirDropletTranslation.parameter\",\"LinfU.dat\", \n",
    "                                     directory_pattern=\"isoAdv-mercuryAirDropletTranslation_00000_templateCase\")\n",
    "agglomerator.show_failed_variations()\n",
    "agglomerator.write_agglomerated_study_data(\"isoAdv-mercuryAirDropletTranslation.csv\")\n",
    "dframe_isoAdv = agglomerator.study_dataframe()\n",
    "dframe_isoAdv = dframe_isoAdv.sort_index()\n",
    "\n",
    "agglomerator = da.data_agglomerator(\"mercuryAirDropletTranslation.parameter\",\"LinfU.dat\", \n",
    "                                     directory_pattern=\"isoRho-mercuryAirDropletTranslation_00000_templateCase\")\n",
    "agglomerator.show_failed_variations()\n",
    "agglomerator.write_agglomerated_study_data(\"isoRho-mercuryAirDropletTranslation.csv\")\n",
    "dframe_isoRho = agglomerator.study_dataframe()\n",
    "dframe_isoRho = dframe_isoRho.sort_index()"
   ]
  },
  {
   "cell_type": "code",
   "execution_count": null,
   "metadata": {},
   "outputs": [],
   "source": [
    "dframe_isoAdv_Euler_upwind = dframe_isoAdv.loc[(dframe_isoAdv.index.get_level_values('timeSchemes') == 'Euler') & (dframe_isoAdv.index.get_level_values('fluxSchemes') == 'upwind')]\n",
    "plot_density_ratio_dframe(dframe_isoAdv_Euler_upwind)"
   ]
  },
  {
   "cell_type": "code",
   "execution_count": null,
   "metadata": {},
   "outputs": [],
   "source": [
    "dframe_isoRho_Euler_upwind = dframe_isoRho.loc[(dframe_isoRho.index.get_level_values('timeSchemes') == 'Euler') & (dframe_isoRho.index.get_level_values('fluxSchemes') == 'upwind')]\n",
    "plot_density_ratio_dframe(dframe_isoRho_Euler_upwind)"
   ]
  },
  {
   "cell_type": "code",
   "execution_count": null,
   "metadata": {},
   "outputs": [],
   "source": [
    "dframe_isoAdv_Euler_N64_CN = dframe_isoAdv.loc[((dframe_isoAdv.index.get_level_values('timeSchemes') == 'Euler') & (dframe_isoAdv.index.get_level_values('resolution') == 64)) \n",
    "                                            | ((dframe_isoAdv.index.get_level_values('timeSchemes') == 'CrankNicolson') & (dframe_isoAdv.index.get_level_values('fluxSchemes') == 'upwind')& (dframe_isoAdv.index.get_level_values('resolution') == 64))]                                          \n",
    "\n",
    "plot_density_ratio_dframe(dframe_isoAdv_Euler_N64_CN)"
   ]
  }
 ],
 "metadata": {
  "kernelspec": {
   "display_name": "Python 3",
   "language": "python",
   "name": "python3"
  },
  "language_info": {
   "codemirror_mode": {
    "name": "ipython",
    "version": 3
   },
   "file_extension": ".py",
   "mimetype": "text/x-python",
   "name": "python",
   "nbconvert_exporter": "python",
   "pygments_lexer": "ipython3",
   "version": "3.9.5"
  }
 },
 "nbformat": 4,
 "nbformat_minor": 4
}
